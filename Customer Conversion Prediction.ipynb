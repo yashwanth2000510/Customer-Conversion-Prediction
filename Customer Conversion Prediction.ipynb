{
 "cells": [
  {
   "cell_type": "code",
   "execution_count": 1,
   "id": "947521ba",
   "metadata": {},
   "outputs": [],
   "source": [
    "import pandas as pd\n",
    "import numpy as np\n",
    "import matplotlib.pyplot as plt \n",
    "import seaborn as sns\n"
   ]
  },
  {
   "cell_type": "code",
   "execution_count": 2,
   "id": "f0bcb4fe",
   "metadata": {},
   "outputs": [],
   "source": [
    "df = pd.read_csv('train.csv')"
   ]
  },
  {
   "cell_type": "code",
   "execution_count": 3,
   "id": "f531a16d",
   "metadata": {},
   "outputs": [
    {
     "data": {
      "text/html": [
       "<div>\n",
       "<style scoped>\n",
       "    .dataframe tbody tr th:only-of-type {\n",
       "        vertical-align: middle;\n",
       "    }\n",
       "\n",
       "    .dataframe tbody tr th {\n",
       "        vertical-align: top;\n",
       "    }\n",
       "\n",
       "    .dataframe thead th {\n",
       "        text-align: right;\n",
       "    }\n",
       "</style>\n",
       "<table border=\"1\" class=\"dataframe\">\n",
       "  <thead>\n",
       "    <tr style=\"text-align: right;\">\n",
       "      <th></th>\n",
       "      <th>age</th>\n",
       "      <th>job</th>\n",
       "      <th>marital</th>\n",
       "      <th>education_qual</th>\n",
       "      <th>call_type</th>\n",
       "      <th>day</th>\n",
       "      <th>mon</th>\n",
       "      <th>dur</th>\n",
       "      <th>num_calls</th>\n",
       "      <th>prev_outcome</th>\n",
       "      <th>y</th>\n",
       "    </tr>\n",
       "  </thead>\n",
       "  <tbody>\n",
       "    <tr>\n",
       "      <th>0</th>\n",
       "      <td>58</td>\n",
       "      <td>management</td>\n",
       "      <td>married</td>\n",
       "      <td>tertiary</td>\n",
       "      <td>unknown</td>\n",
       "      <td>5</td>\n",
       "      <td>may</td>\n",
       "      <td>261</td>\n",
       "      <td>1</td>\n",
       "      <td>unknown</td>\n",
       "      <td>no</td>\n",
       "    </tr>\n",
       "    <tr>\n",
       "      <th>1</th>\n",
       "      <td>44</td>\n",
       "      <td>technician</td>\n",
       "      <td>single</td>\n",
       "      <td>secondary</td>\n",
       "      <td>unknown</td>\n",
       "      <td>5</td>\n",
       "      <td>may</td>\n",
       "      <td>151</td>\n",
       "      <td>1</td>\n",
       "      <td>unknown</td>\n",
       "      <td>no</td>\n",
       "    </tr>\n",
       "    <tr>\n",
       "      <th>2</th>\n",
       "      <td>33</td>\n",
       "      <td>entrepreneur</td>\n",
       "      <td>married</td>\n",
       "      <td>secondary</td>\n",
       "      <td>unknown</td>\n",
       "      <td>5</td>\n",
       "      <td>may</td>\n",
       "      <td>76</td>\n",
       "      <td>1</td>\n",
       "      <td>unknown</td>\n",
       "      <td>no</td>\n",
       "    </tr>\n",
       "    <tr>\n",
       "      <th>3</th>\n",
       "      <td>47</td>\n",
       "      <td>blue-collar</td>\n",
       "      <td>married</td>\n",
       "      <td>unknown</td>\n",
       "      <td>unknown</td>\n",
       "      <td>5</td>\n",
       "      <td>may</td>\n",
       "      <td>92</td>\n",
       "      <td>1</td>\n",
       "      <td>unknown</td>\n",
       "      <td>no</td>\n",
       "    </tr>\n",
       "    <tr>\n",
       "      <th>4</th>\n",
       "      <td>33</td>\n",
       "      <td>unknown</td>\n",
       "      <td>single</td>\n",
       "      <td>unknown</td>\n",
       "      <td>unknown</td>\n",
       "      <td>5</td>\n",
       "      <td>may</td>\n",
       "      <td>198</td>\n",
       "      <td>1</td>\n",
       "      <td>unknown</td>\n",
       "      <td>no</td>\n",
       "    </tr>\n",
       "    <tr>\n",
       "      <th>...</th>\n",
       "      <td>...</td>\n",
       "      <td>...</td>\n",
       "      <td>...</td>\n",
       "      <td>...</td>\n",
       "      <td>...</td>\n",
       "      <td>...</td>\n",
       "      <td>...</td>\n",
       "      <td>...</td>\n",
       "      <td>...</td>\n",
       "      <td>...</td>\n",
       "      <td>...</td>\n",
       "    </tr>\n",
       "    <tr>\n",
       "      <th>45206</th>\n",
       "      <td>51</td>\n",
       "      <td>technician</td>\n",
       "      <td>married</td>\n",
       "      <td>tertiary</td>\n",
       "      <td>cellular</td>\n",
       "      <td>17</td>\n",
       "      <td>nov</td>\n",
       "      <td>977</td>\n",
       "      <td>3</td>\n",
       "      <td>unknown</td>\n",
       "      <td>yes</td>\n",
       "    </tr>\n",
       "    <tr>\n",
       "      <th>45207</th>\n",
       "      <td>71</td>\n",
       "      <td>retired</td>\n",
       "      <td>divorced</td>\n",
       "      <td>primary</td>\n",
       "      <td>cellular</td>\n",
       "      <td>17</td>\n",
       "      <td>nov</td>\n",
       "      <td>456</td>\n",
       "      <td>2</td>\n",
       "      <td>unknown</td>\n",
       "      <td>yes</td>\n",
       "    </tr>\n",
       "    <tr>\n",
       "      <th>45208</th>\n",
       "      <td>72</td>\n",
       "      <td>retired</td>\n",
       "      <td>married</td>\n",
       "      <td>secondary</td>\n",
       "      <td>cellular</td>\n",
       "      <td>17</td>\n",
       "      <td>nov</td>\n",
       "      <td>1127</td>\n",
       "      <td>5</td>\n",
       "      <td>success</td>\n",
       "      <td>yes</td>\n",
       "    </tr>\n",
       "    <tr>\n",
       "      <th>45209</th>\n",
       "      <td>57</td>\n",
       "      <td>blue-collar</td>\n",
       "      <td>married</td>\n",
       "      <td>secondary</td>\n",
       "      <td>telephone</td>\n",
       "      <td>17</td>\n",
       "      <td>nov</td>\n",
       "      <td>508</td>\n",
       "      <td>4</td>\n",
       "      <td>unknown</td>\n",
       "      <td>no</td>\n",
       "    </tr>\n",
       "    <tr>\n",
       "      <th>45210</th>\n",
       "      <td>37</td>\n",
       "      <td>entrepreneur</td>\n",
       "      <td>married</td>\n",
       "      <td>secondary</td>\n",
       "      <td>cellular</td>\n",
       "      <td>17</td>\n",
       "      <td>nov</td>\n",
       "      <td>361</td>\n",
       "      <td>2</td>\n",
       "      <td>other</td>\n",
       "      <td>no</td>\n",
       "    </tr>\n",
       "  </tbody>\n",
       "</table>\n",
       "<p>45211 rows × 11 columns</p>\n",
       "</div>"
      ],
      "text/plain": [
       "       age           job   marital education_qual  call_type  day  mon   dur  \\\n",
       "0       58    management   married       tertiary    unknown    5  may   261   \n",
       "1       44    technician    single      secondary    unknown    5  may   151   \n",
       "2       33  entrepreneur   married      secondary    unknown    5  may    76   \n",
       "3       47   blue-collar   married        unknown    unknown    5  may    92   \n",
       "4       33       unknown    single        unknown    unknown    5  may   198   \n",
       "...    ...           ...       ...            ...        ...  ...  ...   ...   \n",
       "45206   51    technician   married       tertiary   cellular   17  nov   977   \n",
       "45207   71       retired  divorced        primary   cellular   17  nov   456   \n",
       "45208   72       retired   married      secondary   cellular   17  nov  1127   \n",
       "45209   57   blue-collar   married      secondary  telephone   17  nov   508   \n",
       "45210   37  entrepreneur   married      secondary   cellular   17  nov   361   \n",
       "\n",
       "       num_calls prev_outcome    y  \n",
       "0              1      unknown   no  \n",
       "1              1      unknown   no  \n",
       "2              1      unknown   no  \n",
       "3              1      unknown   no  \n",
       "4              1      unknown   no  \n",
       "...          ...          ...  ...  \n",
       "45206          3      unknown  yes  \n",
       "45207          2      unknown  yes  \n",
       "45208          5      success  yes  \n",
       "45209          4      unknown   no  \n",
       "45210          2        other   no  \n",
       "\n",
       "[45211 rows x 11 columns]"
      ]
     },
     "execution_count": 3,
     "metadata": {},
     "output_type": "execute_result"
    }
   ],
   "source": [
    "df"
   ]
  },
  {
   "cell_type": "markdown",
   "id": "03c727c5",
   "metadata": {},
   "source": [
    "## Checking for the Null values"
   ]
  },
  {
   "cell_type": "code",
   "execution_count": 4,
   "id": "951f6d63",
   "metadata": {},
   "outputs": [
    {
     "data": {
      "text/plain": [
       "age               0\n",
       "job               0\n",
       "marital           0\n",
       "education_qual    0\n",
       "call_type         0\n",
       "day               0\n",
       "mon               0\n",
       "dur               0\n",
       "num_calls         0\n",
       "prev_outcome      0\n",
       "y                 0\n",
       "dtype: int64"
      ]
     },
     "execution_count": 4,
     "metadata": {},
     "output_type": "execute_result"
    }
   ],
   "source": [
    "df.isnull().sum()\n"
   ]
  },
  {
   "cell_type": "markdown",
   "id": "6a3df954",
   "metadata": {},
   "source": [
    "## Checking if all the Data in the right format"
   ]
  },
  {
   "cell_type": "code",
   "execution_count": 5,
   "id": "c967c867",
   "metadata": {
    "scrolled": true
   },
   "outputs": [
    {
     "name": "stdout",
     "output_type": "stream",
     "text": [
      "<class 'pandas.core.frame.DataFrame'>\n",
      "RangeIndex: 45211 entries, 0 to 45210\n",
      "Data columns (total 11 columns):\n",
      " #   Column          Non-Null Count  Dtype \n",
      "---  ------          --------------  ----- \n",
      " 0   age             45211 non-null  int64 \n",
      " 1   job             45211 non-null  object\n",
      " 2   marital         45211 non-null  object\n",
      " 3   education_qual  45211 non-null  object\n",
      " 4   call_type       45211 non-null  object\n",
      " 5   day             45211 non-null  int64 \n",
      " 6   mon             45211 non-null  object\n",
      " 7   dur             45211 non-null  int64 \n",
      " 8   num_calls       45211 non-null  int64 \n",
      " 9   prev_outcome    45211 non-null  object\n",
      " 10  y               45211 non-null  object\n",
      "dtypes: int64(4), object(7)\n",
      "memory usage: 3.8+ MB\n"
     ]
    }
   ],
   "source": [
    "df.info()"
   ]
  },
  {
   "cell_type": "markdown",
   "id": "fa67b340",
   "metadata": {},
   "source": [
    "## Cliping the Outliers"
   ]
  },
  {
   "cell_type": "code",
   "execution_count": 6,
   "id": "3fb3cf2a",
   "metadata": {},
   "outputs": [
    {
     "data": {
      "text/html": [
       "<div>\n",
       "<style scoped>\n",
       "    .dataframe tbody tr th:only-of-type {\n",
       "        vertical-align: middle;\n",
       "    }\n",
       "\n",
       "    .dataframe tbody tr th {\n",
       "        vertical-align: top;\n",
       "    }\n",
       "\n",
       "    .dataframe thead th {\n",
       "        text-align: right;\n",
       "    }\n",
       "</style>\n",
       "<table border=\"1\" class=\"dataframe\">\n",
       "  <thead>\n",
       "    <tr style=\"text-align: right;\">\n",
       "      <th></th>\n",
       "      <th>age</th>\n",
       "      <th>day</th>\n",
       "      <th>dur</th>\n",
       "      <th>num_calls</th>\n",
       "    </tr>\n",
       "  </thead>\n",
       "  <tbody>\n",
       "    <tr>\n",
       "      <th>count</th>\n",
       "      <td>45211.000000</td>\n",
       "      <td>45211.000000</td>\n",
       "      <td>45211.000000</td>\n",
       "      <td>45211.000000</td>\n",
       "    </tr>\n",
       "    <tr>\n",
       "      <th>mean</th>\n",
       "      <td>40.936210</td>\n",
       "      <td>15.806419</td>\n",
       "      <td>258.163080</td>\n",
       "      <td>2.763841</td>\n",
       "    </tr>\n",
       "    <tr>\n",
       "      <th>std</th>\n",
       "      <td>10.618762</td>\n",
       "      <td>8.322476</td>\n",
       "      <td>257.527812</td>\n",
       "      <td>3.098021</td>\n",
       "    </tr>\n",
       "    <tr>\n",
       "      <th>min</th>\n",
       "      <td>18.000000</td>\n",
       "      <td>1.000000</td>\n",
       "      <td>0.000000</td>\n",
       "      <td>1.000000</td>\n",
       "    </tr>\n",
       "    <tr>\n",
       "      <th>25%</th>\n",
       "      <td>33.000000</td>\n",
       "      <td>8.000000</td>\n",
       "      <td>103.000000</td>\n",
       "      <td>1.000000</td>\n",
       "    </tr>\n",
       "    <tr>\n",
       "      <th>50%</th>\n",
       "      <td>39.000000</td>\n",
       "      <td>16.000000</td>\n",
       "      <td>180.000000</td>\n",
       "      <td>2.000000</td>\n",
       "    </tr>\n",
       "    <tr>\n",
       "      <th>75%</th>\n",
       "      <td>48.000000</td>\n",
       "      <td>21.000000</td>\n",
       "      <td>319.000000</td>\n",
       "      <td>3.000000</td>\n",
       "    </tr>\n",
       "    <tr>\n",
       "      <th>max</th>\n",
       "      <td>95.000000</td>\n",
       "      <td>31.000000</td>\n",
       "      <td>4918.000000</td>\n",
       "      <td>63.000000</td>\n",
       "    </tr>\n",
       "  </tbody>\n",
       "</table>\n",
       "</div>"
      ],
      "text/plain": [
       "                age           day           dur     num_calls\n",
       "count  45211.000000  45211.000000  45211.000000  45211.000000\n",
       "mean      40.936210     15.806419    258.163080      2.763841\n",
       "std       10.618762      8.322476    257.527812      3.098021\n",
       "min       18.000000      1.000000      0.000000      1.000000\n",
       "25%       33.000000      8.000000    103.000000      1.000000\n",
       "50%       39.000000     16.000000    180.000000      2.000000\n",
       "75%       48.000000     21.000000    319.000000      3.000000\n",
       "max       95.000000     31.000000   4918.000000     63.000000"
      ]
     },
     "execution_count": 6,
     "metadata": {},
     "output_type": "execute_result"
    }
   ],
   "source": [
    "df.describe()"
   ]
  },
  {
   "cell_type": "code",
   "execution_count": 7,
   "id": "d61ce155",
   "metadata": {},
   "outputs": [
    {
     "name": "stdout",
     "output_type": "stream",
     "text": [
      "-221.0 643.0\n"
     ]
    }
   ],
   "source": [
    "iqr = df['dur'].quantile(0.75) - df['dur'].quantile(0.25)\n",
    "lower_threshold = df['dur'].quantile(0.25) - (1.5*iqr)\n",
    "upper_threshold = df['dur'].quantile(0.75) + (1.5*iqr)\n",
    "print(lower_threshold, upper_threshold)\n",
    "df['dur'] = df['dur'].clip(lower_threshold, upper_threshold)"
   ]
  },
  {
   "cell_type": "code",
   "execution_count": 8,
   "id": "7f5f2370",
   "metadata": {},
   "outputs": [
    {
     "name": "stdout",
     "output_type": "stream",
     "text": [
      "-2.0 6.0\n"
     ]
    }
   ],
   "source": [
    "iqr = df['num_calls'].quantile(0.75) - df['num_calls'].quantile(0.25)\n",
    "lower_threshold = df['num_calls'].quantile(0.25) - (1.5*iqr)\n",
    "upper_threshold = df['num_calls'].quantile(0.75) + (1.5*iqr)\n",
    "print(lower_threshold, upper_threshold)\n",
    "df['num_calls'] = df['num_calls'].clip(lower_threshold, upper_threshold)"
   ]
  },
  {
   "cell_type": "code",
   "execution_count": 9,
   "id": "a361c7b9",
   "metadata": {},
   "outputs": [
    {
     "data": {
      "text/html": [
       "<div>\n",
       "<style scoped>\n",
       "    .dataframe tbody tr th:only-of-type {\n",
       "        vertical-align: middle;\n",
       "    }\n",
       "\n",
       "    .dataframe tbody tr th {\n",
       "        vertical-align: top;\n",
       "    }\n",
       "\n",
       "    .dataframe thead th {\n",
       "        text-align: right;\n",
       "    }\n",
       "</style>\n",
       "<table border=\"1\" class=\"dataframe\">\n",
       "  <thead>\n",
       "    <tr style=\"text-align: right;\">\n",
       "      <th></th>\n",
       "      <th>age</th>\n",
       "      <th>day</th>\n",
       "      <th>dur</th>\n",
       "      <th>num_calls</th>\n",
       "    </tr>\n",
       "  </thead>\n",
       "  <tbody>\n",
       "    <tr>\n",
       "      <th>count</th>\n",
       "      <td>45211.000000</td>\n",
       "      <td>45211.000000</td>\n",
       "      <td>45211.000000</td>\n",
       "      <td>45211.000000</td>\n",
       "    </tr>\n",
       "    <tr>\n",
       "      <th>mean</th>\n",
       "      <td>40.936210</td>\n",
       "      <td>15.806419</td>\n",
       "      <td>234.939307</td>\n",
       "      <td>2.392228</td>\n",
       "    </tr>\n",
       "    <tr>\n",
       "      <th>std</th>\n",
       "      <td>10.618762</td>\n",
       "      <td>8.322476</td>\n",
       "      <td>176.749932</td>\n",
       "      <td>1.600111</td>\n",
       "    </tr>\n",
       "    <tr>\n",
       "      <th>min</th>\n",
       "      <td>18.000000</td>\n",
       "      <td>1.000000</td>\n",
       "      <td>0.000000</td>\n",
       "      <td>1.000000</td>\n",
       "    </tr>\n",
       "    <tr>\n",
       "      <th>25%</th>\n",
       "      <td>33.000000</td>\n",
       "      <td>8.000000</td>\n",
       "      <td>103.000000</td>\n",
       "      <td>1.000000</td>\n",
       "    </tr>\n",
       "    <tr>\n",
       "      <th>50%</th>\n",
       "      <td>39.000000</td>\n",
       "      <td>16.000000</td>\n",
       "      <td>180.000000</td>\n",
       "      <td>2.000000</td>\n",
       "    </tr>\n",
       "    <tr>\n",
       "      <th>75%</th>\n",
       "      <td>48.000000</td>\n",
       "      <td>21.000000</td>\n",
       "      <td>319.000000</td>\n",
       "      <td>3.000000</td>\n",
       "    </tr>\n",
       "    <tr>\n",
       "      <th>max</th>\n",
       "      <td>95.000000</td>\n",
       "      <td>31.000000</td>\n",
       "      <td>643.000000</td>\n",
       "      <td>6.000000</td>\n",
       "    </tr>\n",
       "  </tbody>\n",
       "</table>\n",
       "</div>"
      ],
      "text/plain": [
       "                age           day           dur     num_calls\n",
       "count  45211.000000  45211.000000  45211.000000  45211.000000\n",
       "mean      40.936210     15.806419    234.939307      2.392228\n",
       "std       10.618762      8.322476    176.749932      1.600111\n",
       "min       18.000000      1.000000      0.000000      1.000000\n",
       "25%       33.000000      8.000000    103.000000      1.000000\n",
       "50%       39.000000     16.000000    180.000000      2.000000\n",
       "75%       48.000000     21.000000    319.000000      3.000000\n",
       "max       95.000000     31.000000    643.000000      6.000000"
      ]
     },
     "execution_count": 9,
     "metadata": {},
     "output_type": "execute_result"
    }
   ],
   "source": [
    "df.describe()"
   ]
  },
  {
   "cell_type": "markdown",
   "id": "bed9ee98",
   "metadata": {},
   "source": [
    "### Droping the Duplicates in the data"
   ]
  },
  {
   "cell_type": "code",
   "execution_count": 10,
   "id": "93e81b7a",
   "metadata": {},
   "outputs": [],
   "source": [
    "df = df.drop_duplicates()"
   ]
  },
  {
   "cell_type": "code",
   "execution_count": 11,
   "id": "abe21ac7",
   "metadata": {},
   "outputs": [
    {
     "data": {
      "text/plain": [
       "(45195, 11)"
      ]
     },
     "execution_count": 11,
     "metadata": {},
     "output_type": "execute_result"
    }
   ],
   "source": [
    "df.shape"
   ]
  },
  {
   "cell_type": "markdown",
   "id": "ed7046eb",
   "metadata": {},
   "source": [
    "### Checking if the data is a balanced Data or Not"
   ]
  },
  {
   "cell_type": "code",
   "execution_count": 12,
   "id": "82b78d9e",
   "metadata": {
    "scrolled": true
   },
   "outputs": [
    {
     "data": {
      "text/plain": [
       "no     39908\n",
       "yes     5287\n",
       "Name: y, dtype: int64"
      ]
     },
     "execution_count": 12,
     "metadata": {},
     "output_type": "execute_result"
    }
   ],
   "source": [
    "df.y.value_counts()"
   ]
  },
  {
   "cell_type": "code",
   "execution_count": 13,
   "id": "ac4f823e",
   "metadata": {
    "scrolled": true
   },
   "outputs": [
    {
     "data": {
      "text/plain": [
       "<AxesSubplot: xlabel='y', ylabel='count'>"
      ]
     },
     "execution_count": 13,
     "metadata": {},
     "output_type": "execute_result"
    },
    {
     "data": {
      "image/png": "[encoded data removed]",
      "text/plain": [
       "<Figure size 640x480 with 1 Axes>"
      ]
     },
     "metadata": {},
     "output_type": "display_data"
    }
   ],
   "source": [
    "sns.countplot(data=df,x='y')\n"
   ]
  },
  {
   "cell_type": "code",
   "execution_count": 14,
   "id": "11e33af5",
   "metadata": {},
   "outputs": [
    {
     "name": "stderr",
     "output_type": "stream",
     "text": [
      "C:\\Users\\USER\\AppData\\Local\\Temp\\ipykernel_10532\\825572093.py:2: SettingWithCopyWarning: \n",
      "A value is trying to be set on a copy of a slice from a DataFrame.\n",
      "Try using .loc[row_indexer,col_indexer] = value instead\n",
      "\n",
      "See the caveats in the documentation: https://pandas.pydata.org/pandas-docs/stable/user_guide/indexing.html#returning-a-view-versus-a-copy\n",
      "  df['y'] = df['y'].map({'no':0,'yes':1})\n"
     ]
    }
   ],
   "source": [
    "# Encoding the target variable\n",
    "df['y'] = df['y'].map({'no':0,'yes':1})"
   ]
  },
  {
   "cell_type": "code",
   "execution_count": 15,
   "id": "09dbda85",
   "metadata": {},
   "outputs": [
    {
     "data": {
      "text/html": [
       "<div>\n",
       "<style scoped>\n",
       "    .dataframe tbody tr th:only-of-type {\n",
       "        vertical-align: middle;\n",
       "    }\n",
       "\n",
       "    .dataframe tbody tr th {\n",
       "        vertical-align: top;\n",
       "    }\n",
       "\n",
       "    .dataframe thead th {\n",
       "        text-align: right;\n",
       "    }\n",
       "</style>\n",
       "<table border=\"1\" class=\"dataframe\">\n",
       "  <thead>\n",
       "    <tr style=\"text-align: right;\">\n",
       "      <th></th>\n",
       "      <th>age</th>\n",
       "      <th>job</th>\n",
       "      <th>marital</th>\n",
       "      <th>education_qual</th>\n",
       "      <th>call_type</th>\n",
       "      <th>day</th>\n",
       "      <th>mon</th>\n",
       "      <th>dur</th>\n",
       "      <th>num_calls</th>\n",
       "      <th>prev_outcome</th>\n",
       "      <th>y</th>\n",
       "    </tr>\n",
       "  </thead>\n",
       "  <tbody>\n",
       "    <tr>\n",
       "      <th>0</th>\n",
       "      <td>58</td>\n",
       "      <td>management</td>\n",
       "      <td>married</td>\n",
       "      <td>tertiary</td>\n",
       "      <td>unknown</td>\n",
       "      <td>5</td>\n",
       "      <td>may</td>\n",
       "      <td>261</td>\n",
       "      <td>1</td>\n",
       "      <td>unknown</td>\n",
       "      <td>0</td>\n",
       "    </tr>\n",
       "    <tr>\n",
       "      <th>1</th>\n",
       "      <td>44</td>\n",
       "      <td>technician</td>\n",
       "      <td>single</td>\n",
       "      <td>secondary</td>\n",
       "      <td>unknown</td>\n",
       "      <td>5</td>\n",
       "      <td>may</td>\n",
       "      <td>151</td>\n",
       "      <td>1</td>\n",
       "      <td>unknown</td>\n",
       "      <td>0</td>\n",
       "    </tr>\n",
       "    <tr>\n",
       "      <th>2</th>\n",
       "      <td>33</td>\n",
       "      <td>entrepreneur</td>\n",
       "      <td>married</td>\n",
       "      <td>secondary</td>\n",
       "      <td>unknown</td>\n",
       "      <td>5</td>\n",
       "      <td>may</td>\n",
       "      <td>76</td>\n",
       "      <td>1</td>\n",
       "      <td>unknown</td>\n",
       "      <td>0</td>\n",
       "    </tr>\n",
       "    <tr>\n",
       "      <th>3</th>\n",
       "      <td>47</td>\n",
       "      <td>blue-collar</td>\n",
       "      <td>married</td>\n",
       "      <td>unknown</td>\n",
       "      <td>unknown</td>\n",
       "      <td>5</td>\n",
       "      <td>may</td>\n",
       "      <td>92</td>\n",
       "      <td>1</td>\n",
       "      <td>unknown</td>\n",
       "      <td>0</td>\n",
       "    </tr>\n",
       "    <tr>\n",
       "      <th>4</th>\n",
       "      <td>33</td>\n",
       "      <td>unknown</td>\n",
       "      <td>single</td>\n",
       "      <td>unknown</td>\n",
       "      <td>unknown</td>\n",
       "      <td>5</td>\n",
       "      <td>may</td>\n",
       "      <td>198</td>\n",
       "      <td>1</td>\n",
       "      <td>unknown</td>\n",
       "      <td>0</td>\n",
       "    </tr>\n",
       "  </tbody>\n",
       "</table>\n",
       "</div>"
      ],
      "text/plain": [
       "   age           job  marital education_qual call_type  day  mon  dur  \\\n",
       "0   58    management  married       tertiary   unknown    5  may  261   \n",
       "1   44    technician   single      secondary   unknown    5  may  151   \n",
       "2   33  entrepreneur  married      secondary   unknown    5  may   76   \n",
       "3   47   blue-collar  married        unknown   unknown    5  may   92   \n",
       "4   33       unknown   single        unknown   unknown    5  may  198   \n",
       "\n",
       "   num_calls prev_outcome  y  \n",
       "0          1      unknown  0  \n",
       "1          1      unknown  0  \n",
       "2          1      unknown  0  \n",
       "3          1      unknown  0  \n",
       "4          1      unknown  0  "
      ]
     },
     "execution_count": 15,
     "metadata": {},
     "output_type": "execute_result"
    }
   ],
   "source": [
    "df.head()"
   ]
  },
  {
   "cell_type": "code",
   "execution_count": 16,
   "id": "1aacce89",
   "metadata": {},
   "outputs": [
    {
     "data": {
      "text/plain": [
       "Index(['age', 'job', 'marital', 'education_qual', 'call_type', 'day', 'mon',\n",
       "       'dur', 'num_calls', 'prev_outcome', 'y'],\n",
       "      dtype='object')"
      ]
     },
     "execution_count": 16,
     "metadata": {},
     "output_type": "execute_result"
    }
   ],
   "source": [
    "df.columns"
   ]
  },
  {
   "cell_type": "code",
   "execution_count": 17,
   "id": "b626ed6f",
   "metadata": {
    "scrolled": true
   },
   "outputs": [
    {
     "data": {
      "text/plain": [
       "blue-collar      9728\n",
       "management       9455\n",
       "technician       7593\n",
       "admin.           5170\n",
       "services         4152\n",
       "retired          2263\n",
       "self-employed    1579\n",
       "entrepreneur     1487\n",
       "unemployed       1303\n",
       "housemaid        1240\n",
       "student           937\n",
       "unknown           288\n",
       "Name: job, dtype: int64"
      ]
     },
     "execution_count": 17,
     "metadata": {},
     "output_type": "execute_result"
    }
   ],
   "source": [
    "df['job'].value_counts()"
   ]
  },
  {
   "cell_type": "code",
   "execution_count": 18,
   "id": "3562c9a5",
   "metadata": {},
   "outputs": [
    {
     "name": "stderr",
     "output_type": "stream",
     "text": [
      "C:\\Users\\USER\\AppData\\Local\\Temp\\ipykernel_10532\\2593997889.py:2: SettingWithCopyWarning: \n",
      "A value is trying to be set on a copy of a slice from a DataFrame.\n",
      "Try using .loc[row_indexer,col_indexer] = value instead\n",
      "\n",
      "See the caveats in the documentation: https://pandas.pydata.org/pandas-docs/stable/user_guide/indexing.html#returning-a-view-versus-a-copy\n",
      "  df['job'] = df['job'].replace({'unknown':'blue-collar'})\n"
     ]
    }
   ],
   "source": [
    "# Encoding the 'Job' columns based on the value counts or Mode\n",
    "df['job'] = df['job'].replace({'unknown':'blue-collar'})"
   ]
  },
  {
   "cell_type": "code",
   "execution_count": 19,
   "id": "cb5d3bab",
   "metadata": {},
   "outputs": [
    {
     "data": {
      "text/plain": [
       "blue-collar      10016\n",
       "management        9455\n",
       "technician        7593\n",
       "admin.            5170\n",
       "services          4152\n",
       "retired           2263\n",
       "self-employed     1579\n",
       "entrepreneur      1487\n",
       "unemployed        1303\n",
       "housemaid         1240\n",
       "student            937\n",
       "Name: job, dtype: int64"
      ]
     },
     "execution_count": 19,
     "metadata": {},
     "output_type": "execute_result"
    }
   ],
   "source": [
    "df['job'].value_counts()"
   ]
  },
  {
   "cell_type": "code",
   "execution_count": 20,
   "id": "bc1bf70c",
   "metadata": {},
   "outputs": [
    {
     "data": {
      "text/plain": [
       "married     27204\n",
       "single      12784\n",
       "divorced     5207\n",
       "Name: marital, dtype: int64"
      ]
     },
     "execution_count": 20,
     "metadata": {},
     "output_type": "execute_result"
    }
   ],
   "source": [
    "df['marital'].value_counts()"
   ]
  },
  {
   "cell_type": "code",
   "execution_count": 21,
   "id": "f33ec724",
   "metadata": {
    "scrolled": true
   },
   "outputs": [
    {
     "data": {
      "text/plain": [
       "secondary    23192\n",
       "tertiary     13296\n",
       "primary       6850\n",
       "unknown       1857\n",
       "Name: education_qual, dtype: int64"
      ]
     },
     "execution_count": 21,
     "metadata": {},
     "output_type": "execute_result"
    }
   ],
   "source": [
    "df['education_qual'].value_counts()"
   ]
  },
  {
   "cell_type": "code",
   "execution_count": 22,
   "id": "0a0481f2",
   "metadata": {},
   "outputs": [
    {
     "name": "stderr",
     "output_type": "stream",
     "text": [
      "C:\\Users\\USER\\AppData\\Local\\Temp\\ipykernel_10532\\3829706993.py:2: SettingWithCopyWarning: \n",
      "A value is trying to be set on a copy of a slice from a DataFrame.\n",
      "Try using .loc[row_indexer,col_indexer] = value instead\n",
      "\n",
      "See the caveats in the documentation: https://pandas.pydata.org/pandas-docs/stable/user_guide/indexing.html#returning-a-view-versus-a-copy\n",
      "  df['education_qual'] = df['education_qual'].replace({'unknown':'secondary'})\n"
     ]
    }
   ],
   "source": [
    "# Encoding the 'education_qual' columns based on the value counts or Mode\n",
    "df['education_qual'] = df['education_qual'].replace({'unknown':'secondary'})"
   ]
  },
  {
   "cell_type": "code",
   "execution_count": 23,
   "id": "ff8e11d9",
   "metadata": {},
   "outputs": [
    {
     "data": {
      "text/plain": [
       "secondary    25049\n",
       "tertiary     13296\n",
       "primary       6850\n",
       "Name: education_qual, dtype: int64"
      ]
     },
     "execution_count": 23,
     "metadata": {},
     "output_type": "execute_result"
    }
   ],
   "source": [
    "df['education_qual'].value_counts()"
   ]
  },
  {
   "cell_type": "code",
   "execution_count": 24,
   "id": "1971cf44",
   "metadata": {},
   "outputs": [
    {
     "data": {
      "text/plain": [
       "cellular     29277\n",
       "unknown      13012\n",
       "telephone     2906\n",
       "Name: call_type, dtype: int64"
      ]
     },
     "execution_count": 24,
     "metadata": {},
     "output_type": "execute_result"
    }
   ],
   "source": [
    "df['call_type'].value_counts()"
   ]
  },
  {
   "cell_type": "code",
   "execution_count": 25,
   "id": "a7dcc8fb",
   "metadata": {},
   "outputs": [
    {
     "data": {
      "text/plain": [
       "may    13762\n",
       "jul     6892\n",
       "aug     6243\n",
       "jun     5337\n",
       "nov     3969\n",
       "apr     2932\n",
       "feb     2649\n",
       "jan     1403\n",
       "oct      738\n",
       "sep      579\n",
       "mar      477\n",
       "dec      214\n",
       "Name: mon, dtype: int64"
      ]
     },
     "execution_count": 25,
     "metadata": {},
     "output_type": "execute_result"
    }
   ],
   "source": [
    "df['mon'].value_counts()"
   ]
  },
  {
   "cell_type": "code",
   "execution_count": 26,
   "id": "a512ef9f",
   "metadata": {
    "scrolled": true
   },
   "outputs": [
    {
     "data": {
      "text/plain": [
       "unknown    36943\n",
       "failure     4901\n",
       "other       1840\n",
       "success     1511\n",
       "Name: prev_outcome, dtype: int64"
      ]
     },
     "execution_count": 26,
     "metadata": {},
     "output_type": "execute_result"
    }
   ],
   "source": [
    "df['prev_outcome'].value_counts()"
   ]
  },
  {
   "cell_type": "markdown",
   "id": "6106a589",
   "metadata": {},
   "source": [
    "## Exploratory Data Analysis"
   ]
  },
  {
   "cell_type": "code",
   "execution_count": 27,
   "id": "0ec19dce",
   "metadata": {},
   "outputs": [
    {
     "data": {
      "image/png": "[encoded data removed]",
      "text/plain": [
       "<Figure size 640x480 with 1 Axes>"
      ]
     },
     "metadata": {},
     "output_type": "display_data"
    }
   ],
   "source": [
    "ax = sns.countplot(data=df,x='job')\n",
    "ax.tick_params(axis='x',rotation=90)"
   ]
  },
  {
   "cell_type": "code",
   "execution_count": 28,
   "id": "6462f306",
   "metadata": {
    "scrolled": true
   },
   "outputs": [
    {
     "data": {
      "text/plain": [
       "<AxesSubplot: ylabel='job'>"
      ]
     },
     "execution_count": 28,
     "metadata": {},
     "output_type": "execute_result"
    },
    {
     "data": {
      "image/png": "[encoded data removed]",
      "text/plain": [
       "<Figure size 640x480 with 1 Axes>"
      ]
     },
     "metadata": {},
     "output_type": "display_data"
    }
   ],
   "source": [
    "(df.groupby('job')['y'].mean()*100).sort_values().plot(kind='barh')"
   ]
  },
  {
   "cell_type": "markdown",
   "id": "104207f4",
   "metadata": {},
   "source": [
    "### By just plotting the job column based on the target varibale  we can see that  most subscribed customers are Students"
   ]
  },
  {
   "cell_type": "code",
   "execution_count": 29,
   "id": "ad92d908",
   "metadata": {
    "scrolled": true
   },
   "outputs": [
    {
     "data": {
      "text/plain": [
       "<AxesSubplot: ylabel='marital'>"
      ]
     },
     "execution_count": 29,
     "metadata": {},
     "output_type": "execute_result"
    },
    {
     "data": {
      "image/png": "[encoded data removed]",
      "text/plain": [
       "<Figure size 640x480 with 1 Axes>"
      ]
     },
     "metadata": {},
     "output_type": "display_data"
    }
   ],
   "source": [
    "(df.groupby('marital')['y'].mean()*100).sort_values().plot(kind='barh')"
   ]
  },
  {
   "cell_type": "markdown",
   "id": "ed8b9e86",
   "metadata": {},
   "source": [
    "### Single people are the most subscribed customers"
   ]
  },
  {
   "cell_type": "code",
   "execution_count": 30,
   "id": "b321a426",
   "metadata": {},
   "outputs": [
    {
     "data": {
      "text/plain": [
       "<AxesSubplot: ylabel='education_qual'>"
      ]
     },
     "execution_count": 30,
     "metadata": {},
     "output_type": "execute_result"
    },
    {
     "data": {
      "image/png": "[encoded data removed]",
      "text/plain": [
       "<Figure size 640x480 with 1 Axes>"
      ]
     },
     "metadata": {},
     "output_type": "display_data"
    }
   ],
   "source": [
    "(df.groupby('education_qual')['y'].mean()*100).sort_values().plot(kind='barh')"
   ]
  },
  {
   "cell_type": "code",
   "execution_count": 31,
   "id": "ee5787c0",
   "metadata": {},
   "outputs": [
    {
     "data": {
      "text/plain": [
       "<AxesSubplot: ylabel='call_type'>"
      ]
     },
     "execution_count": 31,
     "metadata": {},
     "output_type": "execute_result"
    },
    {
     "data": {
      "image/png": "[encoded data removed]",
      "text/plain": [
       "<Figure size 640x480 with 1 Axes>"
      ]
     },
     "metadata": {},
     "output_type": "display_data"
    }
   ],
   "source": [
    "(df.groupby('call_type')['y'].mean()*100).sort_values().plot(kind='barh')"
   ]
  },
  {
   "cell_type": "code",
   "execution_count": 32,
   "id": "fa388586",
   "metadata": {},
   "outputs": [
    {
     "data": {
      "text/plain": [
       "<AxesSubplot: ylabel='mon'>"
      ]
     },
     "execution_count": 32,
     "metadata": {},
     "output_type": "execute_result"
    },
    {
     "data": {
      "image/png": "[encoded data removed]",
      "text/plain": [
       "<Figure size 640x480 with 1 Axes>"
      ]
     },
     "metadata": {},
     "output_type": "display_data"
    }
   ],
   "source": [
    "(df.groupby('mon')['y'].mean()*100).sort_values().plot(kind='barh')"
   ]
  },
  {
   "cell_type": "markdown",
   "id": "8fcc8e08",
   "metadata": {},
   "source": [
    "### The sales of insurance happend in march because it is the financial year"
   ]
  },
  {
   "cell_type": "code",
   "execution_count": 33,
   "id": "76b02b11",
   "metadata": {},
   "outputs": [
    {
     "data": {
      "text/plain": [
       "<AxesSubplot: ylabel='prev_outcome'>"
      ]
     },
     "execution_count": 33,
     "metadata": {},
     "output_type": "execute_result"
    },
    {
     "data": {
      "image/png": "[encoded data removed]",
      "text/plain": [
       "<Figure size 640x480 with 1 Axes>"
      ]
     },
     "metadata": {},
     "output_type": "display_data"
    }
   ],
   "source": [
    "(df.groupby('prev_outcome')['y'].mean()*100).sort_values().plot(kind='barh')"
   ]
  },
  {
   "cell_type": "code",
   "execution_count": 34,
   "id": "6ccd626d",
   "metadata": {},
   "outputs": [
    {
     "data": {
      "text/plain": [
       "Index(['age', 'job', 'marital', 'education_qual', 'call_type', 'day', 'mon',\n",
       "       'dur', 'num_calls', 'prev_outcome', 'y'],\n",
       "      dtype='object')"
      ]
     },
     "execution_count": 34,
     "metadata": {},
     "output_type": "execute_result"
    }
   ],
   "source": [
    "df.columns"
   ]
  },
  {
   "cell_type": "code",
   "execution_count": 35,
   "id": "095a5a99",
   "metadata": {},
   "outputs": [
    {
     "data": {
      "text/plain": [
       "<AxesSubplot: xlabel='y', ylabel='age'>"
      ]
     },
     "execution_count": 35,
     "metadata": {},
     "output_type": "execute_result"
    },
    {
     "data": {
      "image/png": "[encoded data removed]",
      "text/plain": [
       "<Figure size 640x480 with 1 Axes>"
      ]
     },
     "metadata": {},
     "output_type": "display_data"
    }
   ],
   "source": [
    "sns.boxplot(df,x='y',y='age')"
   ]
  },
  {
   "cell_type": "markdown",
   "id": "4efe2b2d",
   "metadata": {},
   "source": [
    "## Encoding the Data"
   ]
  },
  {
   "cell_type": "code",
   "execution_count": 36,
   "id": "e482d5d2",
   "metadata": {},
   "outputs": [
    {
     "name": "stderr",
     "output_type": "stream",
     "text": [
      "C:\\Users\\USER\\AppData\\Local\\Temp\\ipykernel_10532\\2790206024.py:1: SettingWithCopyWarning: \n",
      "A value is trying to be set on a copy of a slice from a DataFrame.\n",
      "Try using .loc[row_indexer,col_indexer] = value instead\n",
      "\n",
      "See the caveats in the documentation: https://pandas.pydata.org/pandas-docs/stable/user_guide/indexing.html#returning-a-view-versus-a-copy\n",
      "  df['job'] = df['job'].map({'blue-collar':0,'entrepreneur':1,'housemaid':2,'services':3,'technician':4,'self-employed':5,\n",
      "C:\\Users\\USER\\AppData\\Local\\Temp\\ipykernel_10532\\2790206024.py:3: SettingWithCopyWarning: \n",
      "A value is trying to be set on a copy of a slice from a DataFrame.\n",
      "Try using .loc[row_indexer,col_indexer] = value instead\n",
      "\n",
      "See the caveats in the documentation: https://pandas.pydata.org/pandas-docs/stable/user_guide/indexing.html#returning-a-view-versus-a-copy\n",
      "  df['marital'] = df['marital'].map({'married':0,'single':2, 'divorced':1})\n",
      "C:\\Users\\USER\\AppData\\Local\\Temp\\ipykernel_10532\\2790206024.py:4: SettingWithCopyWarning: \n",
      "A value is trying to be set on a copy of a slice from a DataFrame.\n",
      "Try using .loc[row_indexer,col_indexer] = value instead\n",
      "\n",
      "See the caveats in the documentation: https://pandas.pydata.org/pandas-docs/stable/user_guide/indexing.html#returning-a-view-versus-a-copy\n",
      "  df['education_qual'] = df['education_qual'].map({'secondary':1,'tertiary':2,'primary':0})\n",
      "C:\\Users\\USER\\AppData\\Local\\Temp\\ipykernel_10532\\2790206024.py:5: SettingWithCopyWarning: \n",
      "A value is trying to be set on a copy of a slice from a DataFrame.\n",
      "Try using .loc[row_indexer,col_indexer] = value instead\n",
      "\n",
      "See the caveats in the documentation: https://pandas.pydata.org/pandas-docs/stable/user_guide/indexing.html#returning-a-view-versus-a-copy\n",
      "  df['call_type'] = df['call_type'].map({'cellular':2,'unknown':0,'telephone':1})\n",
      "C:\\Users\\USER\\AppData\\Local\\Temp\\ipykernel_10532\\2790206024.py:6: SettingWithCopyWarning: \n",
      "A value is trying to be set on a copy of a slice from a DataFrame.\n",
      "Try using .loc[row_indexer,col_indexer] = value instead\n",
      "\n",
      "See the caveats in the documentation: https://pandas.pydata.org/pandas-docs/stable/user_guide/indexing.html#returning-a-view-versus-a-copy\n",
      "  df['mon'] = df['mon'].map({'may':0,'jul':1,'jan':2,'nov':3,'jun':4,'aug':5,'feb':6,'apr':7,'oct':8,'sep':9,'dec':10,'mar':11})\n",
      "C:\\Users\\USER\\AppData\\Local\\Temp\\ipykernel_10532\\2790206024.py:7: SettingWithCopyWarning: \n",
      "A value is trying to be set on a copy of a slice from a DataFrame.\n",
      "Try using .loc[row_indexer,col_indexer] = value instead\n",
      "\n",
      "See the caveats in the documentation: https://pandas.pydata.org/pandas-docs/stable/user_guide/indexing.html#returning-a-view-versus-a-copy\n",
      "  df['prev_outcome'] = df['prev_outcome'].map({'unknown':0,'failure':1,'other':2,'success':3})\n"
     ]
    }
   ],
   "source": [
    "df['job'] = df['job'].map({'blue-collar':0,'entrepreneur':1,'housemaid':2,'services':3,'technician':4,'self-employed':5,\n",
    "                           'admin.':6,'management':7,'unemployed':8,'retired':9,'student':10})\n",
    "df['marital'] = df['marital'].map({'married':0,'single':2, 'divorced':1})\n",
    "df['education_qual'] = df['education_qual'].map({'secondary':1,'tertiary':2,'primary':0})\n",
    "df['call_type'] = df['call_type'].map({'cellular':2,'unknown':0,'telephone':1})\n",
    "df['mon'] = df['mon'].map({'may':0,'jul':1,'jan':2,'nov':3,'jun':4,'aug':5,'feb':6,'apr':7,'oct':8,'sep':9,'dec':10,'mar':11})\n",
    "df['prev_outcome'] = df['prev_outcome'].map({'unknown':0,'failure':1,'other':2,'success':3})"
   ]
  },
  {
   "cell_type": "code",
   "execution_count": 37,
   "id": "792edbb0",
   "metadata": {},
   "outputs": [
    {
     "data": {
      "text/html": [
       "<div>\n",
       "<style scoped>\n",
       "    .dataframe tbody tr th:only-of-type {\n",
       "        vertical-align: middle;\n",
       "    }\n",
       "\n",
       "    .dataframe tbody tr th {\n",
       "        vertical-align: top;\n",
       "    }\n",
       "\n",
       "    .dataframe thead th {\n",
       "        text-align: right;\n",
       "    }\n",
       "</style>\n",
       "<table border=\"1\" class=\"dataframe\">\n",
       "  <thead>\n",
       "    <tr style=\"text-align: right;\">\n",
       "      <th></th>\n",
       "      <th>age</th>\n",
       "      <th>job</th>\n",
       "      <th>marital</th>\n",
       "      <th>education_qual</th>\n",
       "      <th>call_type</th>\n",
       "      <th>day</th>\n",
       "      <th>mon</th>\n",
       "      <th>dur</th>\n",
       "      <th>num_calls</th>\n",
       "      <th>prev_outcome</th>\n",
       "      <th>y</th>\n",
       "    </tr>\n",
       "  </thead>\n",
       "  <tbody>\n",
       "    <tr>\n",
       "      <th>0</th>\n",
       "      <td>58</td>\n",
       "      <td>7</td>\n",
       "      <td>0</td>\n",
       "      <td>2</td>\n",
       "      <td>0</td>\n",
       "      <td>5</td>\n",
       "      <td>0</td>\n",
       "      <td>261</td>\n",
       "      <td>1</td>\n",
       "      <td>0</td>\n",
       "      <td>0</td>\n",
       "    </tr>\n",
       "    <tr>\n",
       "      <th>1</th>\n",
       "      <td>44</td>\n",
       "      <td>4</td>\n",
       "      <td>2</td>\n",
       "      <td>1</td>\n",
       "      <td>0</td>\n",
       "      <td>5</td>\n",
       "      <td>0</td>\n",
       "      <td>151</td>\n",
       "      <td>1</td>\n",
       "      <td>0</td>\n",
       "      <td>0</td>\n",
       "    </tr>\n",
       "    <tr>\n",
       "      <th>2</th>\n",
       "      <td>33</td>\n",
       "      <td>1</td>\n",
       "      <td>0</td>\n",
       "      <td>1</td>\n",
       "      <td>0</td>\n",
       "      <td>5</td>\n",
       "      <td>0</td>\n",
       "      <td>76</td>\n",
       "      <td>1</td>\n",
       "      <td>0</td>\n",
       "      <td>0</td>\n",
       "    </tr>\n",
       "    <tr>\n",
       "      <th>3</th>\n",
       "      <td>47</td>\n",
       "      <td>0</td>\n",
       "      <td>0</td>\n",
       "      <td>1</td>\n",
       "      <td>0</td>\n",
       "      <td>5</td>\n",
       "      <td>0</td>\n",
       "      <td>92</td>\n",
       "      <td>1</td>\n",
       "      <td>0</td>\n",
       "      <td>0</td>\n",
       "    </tr>\n",
       "    <tr>\n",
       "      <th>4</th>\n",
       "      <td>33</td>\n",
       "      <td>0</td>\n",
       "      <td>2</td>\n",
       "      <td>1</td>\n",
       "      <td>0</td>\n",
       "      <td>5</td>\n",
       "      <td>0</td>\n",
       "      <td>198</td>\n",
       "      <td>1</td>\n",
       "      <td>0</td>\n",
       "      <td>0</td>\n",
       "    </tr>\n",
       "    <tr>\n",
       "      <th>...</th>\n",
       "      <td>...</td>\n",
       "      <td>...</td>\n",
       "      <td>...</td>\n",
       "      <td>...</td>\n",
       "      <td>...</td>\n",
       "      <td>...</td>\n",
       "      <td>...</td>\n",
       "      <td>...</td>\n",
       "      <td>...</td>\n",
       "      <td>...</td>\n",
       "      <td>...</td>\n",
       "    </tr>\n",
       "    <tr>\n",
       "      <th>45206</th>\n",
       "      <td>51</td>\n",
       "      <td>4</td>\n",
       "      <td>0</td>\n",
       "      <td>2</td>\n",
       "      <td>2</td>\n",
       "      <td>17</td>\n",
       "      <td>3</td>\n",
       "      <td>643</td>\n",
       "      <td>3</td>\n",
       "      <td>0</td>\n",
       "      <td>1</td>\n",
       "    </tr>\n",
       "    <tr>\n",
       "      <th>45207</th>\n",
       "      <td>71</td>\n",
       "      <td>9</td>\n",
       "      <td>1</td>\n",
       "      <td>0</td>\n",
       "      <td>2</td>\n",
       "      <td>17</td>\n",
       "      <td>3</td>\n",
       "      <td>456</td>\n",
       "      <td>2</td>\n",
       "      <td>0</td>\n",
       "      <td>1</td>\n",
       "    </tr>\n",
       "    <tr>\n",
       "      <th>45208</th>\n",
       "      <td>72</td>\n",
       "      <td>9</td>\n",
       "      <td>0</td>\n",
       "      <td>1</td>\n",
       "      <td>2</td>\n",
       "      <td>17</td>\n",
       "      <td>3</td>\n",
       "      <td>643</td>\n",
       "      <td>5</td>\n",
       "      <td>3</td>\n",
       "      <td>1</td>\n",
       "    </tr>\n",
       "    <tr>\n",
       "      <th>45209</th>\n",
       "      <td>57</td>\n",
       "      <td>0</td>\n",
       "      <td>0</td>\n",
       "      <td>1</td>\n",
       "      <td>1</td>\n",
       "      <td>17</td>\n",
       "      <td>3</td>\n",
       "      <td>508</td>\n",
       "      <td>4</td>\n",
       "      <td>0</td>\n",
       "      <td>0</td>\n",
       "    </tr>\n",
       "    <tr>\n",
       "      <th>45210</th>\n",
       "      <td>37</td>\n",
       "      <td>1</td>\n",
       "      <td>0</td>\n",
       "      <td>1</td>\n",
       "      <td>2</td>\n",
       "      <td>17</td>\n",
       "      <td>3</td>\n",
       "      <td>361</td>\n",
       "      <td>2</td>\n",
       "      <td>2</td>\n",
       "      <td>0</td>\n",
       "    </tr>\n",
       "  </tbody>\n",
       "</table>\n",
       "<p>45195 rows × 11 columns</p>\n",
       "</div>"
      ],
      "text/plain": [
       "       age  job  marital  education_qual  call_type  day  mon  dur  num_calls  \\\n",
       "0       58    7        0               2          0    5    0  261          1   \n",
       "1       44    4        2               1          0    5    0  151          1   \n",
       "2       33    1        0               1          0    5    0   76          1   \n",
       "3       47    0        0               1          0    5    0   92          1   \n",
       "4       33    0        2               1          0    5    0  198          1   \n",
       "...    ...  ...      ...             ...        ...  ...  ...  ...        ...   \n",
       "45206   51    4        0               2          2   17    3  643          3   \n",
       "45207   71    9        1               0          2   17    3  456          2   \n",
       "45208   72    9        0               1          2   17    3  643          5   \n",
       "45209   57    0        0               1          1   17    3  508          4   \n",
       "45210   37    1        0               1          2   17    3  361          2   \n",
       "\n",
       "       prev_outcome  y  \n",
       "0                 0  0  \n",
       "1                 0  0  \n",
       "2                 0  0  \n",
       "3                 0  0  \n",
       "4                 0  0  \n",
       "...             ... ..  \n",
       "45206             0  1  \n",
       "45207             0  1  \n",
       "45208             3  1  \n",
       "45209             0  0  \n",
       "45210             2  0  \n",
       "\n",
       "[45195 rows x 11 columns]"
      ]
     },
     "execution_count": 37,
     "metadata": {},
     "output_type": "execute_result"
    }
   ],
   "source": [
    "df"
   ]
  },
  {
   "cell_type": "code",
   "execution_count": 38,
   "id": "98d8216b",
   "metadata": {},
   "outputs": [],
   "source": [
    "x = df.drop(['y'],axis=1)\n",
    "y = df['y']"
   ]
  },
  {
   "cell_type": "code",
   "execution_count": 39,
   "id": "d4029735",
   "metadata": {},
   "outputs": [
    {
     "data": {
      "text/html": [
       "<div>\n",
       "<style scoped>\n",
       "    .dataframe tbody tr th:only-of-type {\n",
       "        vertical-align: middle;\n",
       "    }\n",
       "\n",
       "    .dataframe tbody tr th {\n",
       "        vertical-align: top;\n",
       "    }\n",
       "\n",
       "    .dataframe thead th {\n",
       "        text-align: right;\n",
       "    }\n",
       "</style>\n",
       "<table border=\"1\" class=\"dataframe\">\n",
       "  <thead>\n",
       "    <tr style=\"text-align: right;\">\n",
       "      <th></th>\n",
       "      <th>age</th>\n",
       "      <th>job</th>\n",
       "      <th>marital</th>\n",
       "      <th>education_qual</th>\n",
       "      <th>call_type</th>\n",
       "      <th>day</th>\n",
       "      <th>mon</th>\n",
       "      <th>dur</th>\n",
       "      <th>num_calls</th>\n",
       "      <th>prev_outcome</th>\n",
       "    </tr>\n",
       "  </thead>\n",
       "  <tbody>\n",
       "    <tr>\n",
       "      <th>0</th>\n",
       "      <td>58</td>\n",
       "      <td>7</td>\n",
       "      <td>0</td>\n",
       "      <td>2</td>\n",
       "      <td>0</td>\n",
       "      <td>5</td>\n",
       "      <td>0</td>\n",
       "      <td>261</td>\n",
       "      <td>1</td>\n",
       "      <td>0</td>\n",
       "    </tr>\n",
       "    <tr>\n",
       "      <th>1</th>\n",
       "      <td>44</td>\n",
       "      <td>4</td>\n",
       "      <td>2</td>\n",
       "      <td>1</td>\n",
       "      <td>0</td>\n",
       "      <td>5</td>\n",
       "      <td>0</td>\n",
       "      <td>151</td>\n",
       "      <td>1</td>\n",
       "      <td>0</td>\n",
       "    </tr>\n",
       "    <tr>\n",
       "      <th>2</th>\n",
       "      <td>33</td>\n",
       "      <td>1</td>\n",
       "      <td>0</td>\n",
       "      <td>1</td>\n",
       "      <td>0</td>\n",
       "      <td>5</td>\n",
       "      <td>0</td>\n",
       "      <td>76</td>\n",
       "      <td>1</td>\n",
       "      <td>0</td>\n",
       "    </tr>\n",
       "    <tr>\n",
       "      <th>3</th>\n",
       "      <td>47</td>\n",
       "      <td>0</td>\n",
       "      <td>0</td>\n",
       "      <td>1</td>\n",
       "      <td>0</td>\n",
       "      <td>5</td>\n",
       "      <td>0</td>\n",
       "      <td>92</td>\n",
       "      <td>1</td>\n",
       "      <td>0</td>\n",
       "    </tr>\n",
       "    <tr>\n",
       "      <th>4</th>\n",
       "      <td>33</td>\n",
       "      <td>0</td>\n",
       "      <td>2</td>\n",
       "      <td>1</td>\n",
       "      <td>0</td>\n",
       "      <td>5</td>\n",
       "      <td>0</td>\n",
       "      <td>198</td>\n",
       "      <td>1</td>\n",
       "      <td>0</td>\n",
       "    </tr>\n",
       "    <tr>\n",
       "      <th>...</th>\n",
       "      <td>...</td>\n",
       "      <td>...</td>\n",
       "      <td>...</td>\n",
       "      <td>...</td>\n",
       "      <td>...</td>\n",
       "      <td>...</td>\n",
       "      <td>...</td>\n",
       "      <td>...</td>\n",
       "      <td>...</td>\n",
       "      <td>...</td>\n",
       "    </tr>\n",
       "    <tr>\n",
       "      <th>45206</th>\n",
       "      <td>51</td>\n",
       "      <td>4</td>\n",
       "      <td>0</td>\n",
       "      <td>2</td>\n",
       "      <td>2</td>\n",
       "      <td>17</td>\n",
       "      <td>3</td>\n",
       "      <td>643</td>\n",
       "      <td>3</td>\n",
       "      <td>0</td>\n",
       "    </tr>\n",
       "    <tr>\n",
       "      <th>45207</th>\n",
       "      <td>71</td>\n",
       "      <td>9</td>\n",
       "      <td>1</td>\n",
       "      <td>0</td>\n",
       "      <td>2</td>\n",
       "      <td>17</td>\n",
       "      <td>3</td>\n",
       "      <td>456</td>\n",
       "      <td>2</td>\n",
       "      <td>0</td>\n",
       "    </tr>\n",
       "    <tr>\n",
       "      <th>45208</th>\n",
       "      <td>72</td>\n",
       "      <td>9</td>\n",
       "      <td>0</td>\n",
       "      <td>1</td>\n",
       "      <td>2</td>\n",
       "      <td>17</td>\n",
       "      <td>3</td>\n",
       "      <td>643</td>\n",
       "      <td>5</td>\n",
       "      <td>3</td>\n",
       "    </tr>\n",
       "    <tr>\n",
       "      <th>45209</th>\n",
       "      <td>57</td>\n",
       "      <td>0</td>\n",
       "      <td>0</td>\n",
       "      <td>1</td>\n",
       "      <td>1</td>\n",
       "      <td>17</td>\n",
       "      <td>3</td>\n",
       "      <td>508</td>\n",
       "      <td>4</td>\n",
       "      <td>0</td>\n",
       "    </tr>\n",
       "    <tr>\n",
       "      <th>45210</th>\n",
       "      <td>37</td>\n",
       "      <td>1</td>\n",
       "      <td>0</td>\n",
       "      <td>1</td>\n",
       "      <td>2</td>\n",
       "      <td>17</td>\n",
       "      <td>3</td>\n",
       "      <td>361</td>\n",
       "      <td>2</td>\n",
       "      <td>2</td>\n",
       "    </tr>\n",
       "  </tbody>\n",
       "</table>\n",
       "<p>45195 rows × 10 columns</p>\n",
       "</div>"
      ],
      "text/plain": [
       "       age  job  marital  education_qual  call_type  day  mon  dur  num_calls  \\\n",
       "0       58    7        0               2          0    5    0  261          1   \n",
       "1       44    4        2               1          0    5    0  151          1   \n",
       "2       33    1        0               1          0    5    0   76          1   \n",
       "3       47    0        0               1          0    5    0   92          1   \n",
       "4       33    0        2               1          0    5    0  198          1   \n",
       "...    ...  ...      ...             ...        ...  ...  ...  ...        ...   \n",
       "45206   51    4        0               2          2   17    3  643          3   \n",
       "45207   71    9        1               0          2   17    3  456          2   \n",
       "45208   72    9        0               1          2   17    3  643          5   \n",
       "45209   57    0        0               1          1   17    3  508          4   \n",
       "45210   37    1        0               1          2   17    3  361          2   \n",
       "\n",
       "       prev_outcome  \n",
       "0                 0  \n",
       "1                 0  \n",
       "2                 0  \n",
       "3                 0  \n",
       "4                 0  \n",
       "...             ...  \n",
       "45206             0  \n",
       "45207             0  \n",
       "45208             3  \n",
       "45209             0  \n",
       "45210             2  \n",
       "\n",
       "[45195 rows x 10 columns]"
      ]
     },
     "execution_count": 39,
     "metadata": {},
     "output_type": "execute_result"
    }
   ],
   "source": [
    "x"
   ]
  },
  {
   "cell_type": "markdown",
   "id": "053ba697",
   "metadata": {},
   "source": [
    "## Spliting the data"
   ]
  },
  {
   "cell_type": "code",
   "execution_count": 40,
   "id": "1c5505f4",
   "metadata": {},
   "outputs": [],
   "source": [
    "from sklearn.model_selection import train_test_split\n",
    "from sklearn.tree import DecisionTreeClassifier\n",
    "from xgboost import XGBClassifier\n",
    "from sklearn.ensemble import RandomForestClassifier\n",
    "from sklearn.model_selection import cross_val_score\n",
    "from sklearn.metrics import roc_auc_score,confusion_matrix,f1_score,accuracy_score"
   ]
  },
  {
   "cell_type": "code",
   "execution_count": 41,
   "id": "6e9f3d12",
   "metadata": {},
   "outputs": [],
   "source": [
    "X_train,X_test,y_train,y_test = train_test_split(x,y,test_size=0.2)"
   ]
  },
  {
   "cell_type": "markdown",
   "id": "781858af",
   "metadata": {},
   "source": [
    "### Balancing the data"
   ]
  },
  {
   "cell_type": "code",
   "execution_count": 42,
   "id": "30f45c8c",
   "metadata": {},
   "outputs": [],
   "source": [
    "from imblearn.combine import SMOTEENN\n",
    "\n",
    "smote = SMOTEENN(sampling_strategy='all')\n",
    "X_train,y_train = smote.fit_resample(X_train,y_train)"
   ]
  },
  {
   "cell_type": "code",
   "execution_count": 43,
   "id": "cd2e0b86",
   "metadata": {},
   "outputs": [
    {
     "data": {
      "text/plain": [
       "((53650, 10), (9039, 10))"
      ]
     },
     "execution_count": 43,
     "metadata": {},
     "output_type": "execute_result"
    }
   ],
   "source": [
    "X_train.shape, X_test.shape"
   ]
  },
  {
   "cell_type": "markdown",
   "id": "89f16fae",
   "metadata": {},
   "source": [
    "### Model fitting "
   ]
  },
  {
   "cell_type": "code",
   "execution_count": 44,
   "id": "aada8ebd",
   "metadata": {},
   "outputs": [
    {
     "name": "stdout",
     "output_type": "stream",
     "text": [
      "Depth  :  1  Training Accuracy :  0.7833737185461324 ROC AUC Score : 0.7184408266738196  Cross val score :  0.7833737185461324\n",
      "Depth  :  2  Training Accuracy :  0.8021994408201305 ROC AUC Score : 0.7176166557794853  Cross val score :  0.8021994408201305\n",
      "Depth  :  3  Training Accuracy :  0.8576887232059646 ROC AUC Score : 0.782925936016  Cross val score :  0.8576887232059647\n",
      "Depth  :  4  Training Accuracy :  0.8643243243243244 ROC AUC Score : 0.7883364146037536  Cross val score :  0.8639701770736254\n",
      "Depth  :  5  Training Accuracy :  0.8791985088536812 ROC AUC Score : 0.8078918587110306  Cross val score :  0.8769058713886301\n",
      "Depth  :  6  Training Accuracy :  0.8921155638397018 ROC AUC Score : 0.8101873721591272  Cross val score :  0.8887604846225535\n",
      "Depth  :  7  Training Accuracy :  0.9107921714818267 ROC AUC Score : 0.8244688449885212  Cross val score :  0.9039701770736255\n",
      "Depth  :  8  Training Accuracy :  0.9221062441752097 ROC AUC Score : 0.8289375221831662  Cross val score :  0.9139794967381174\n",
      "Depth  :  9  Training Accuracy :  0.9330102516309413 ROC AUC Score : 0.8280048678867922  Cross val score :  0.924771668219944\n",
      "Depth  :  10  Training Accuracy :  0.9416029822926375 ROC AUC Score : 0.8270191371246516  Cross val score :  0.9301025163094128\n",
      "Depth  :  20  Training Accuracy :  0.9978005591798695 ROC AUC Score : 0.8027252638616967  Cross val score :  0.9526001863932898\n"
     ]
    }
   ],
   "source": [
    "from sklearn.model_selection import cross_val_score \n",
    "import numpy as np\n",
    "\n",
    "for depth in [1,2,3,4,5,6,7,8,9,10,20]:\n",
    "    dt = DecisionTreeClassifier(max_depth=depth) \n",
    "    dt.fit(X_train, y_train) \n",
    "    trainAccuracy = accuracy_score(y_train, dt.predict(X_train)) \n",
    "    dt = DecisionTreeClassifier(max_depth=depth) \n",
    "    valAccuracy = cross_val_score(dt, X_train, y_train, cv=10)\n",
    "    dt = DecisionTreeClassifier(max_depth=depth) \n",
    "    dt.fit(X_train,y_train)\n",
    "    y_pred = dt.predict(X_test)\n",
    "    roc = roc_auc_score(y_test,y_pred)\n",
    "    print(\"Depth  : \", depth, \" Training Accuracy : \", trainAccuracy,\"ROC AUC Score :\", roc, \" Cross val score : \" ,np.mean(valAccuracy))"
   ]
  },
  {
   "cell_type": "code",
   "execution_count": 45,
   "id": "2e151d98",
   "metadata": {
    "scrolled": true
   },
   "outputs": [
    {
     "name": "stdout",
     "output_type": "stream",
     "text": [
      "Training Accuracy : 0.9330102516309413\n",
      "Testing Accuracy : 0.7860382785706383\n",
      "F1 Score : 0.4953027139874739\n",
      "ROC AUC Score : 0.8268018207499968\n"
     ]
    }
   ],
   "source": [
    "tree = DecisionTreeClassifier(max_depth=9)\n",
    "tree.fit(X_train,y_train)\n",
    "y_pred = tree.predict(X_test)\n",
    "print(\"Training Accuracy :\",tree.score(X_train,y_train))\n",
    "print(\"Testing Accuracy :\",tree.score(X_test,y_test))\n",
    "print(\"F1 Score :\", f1_score(y_test,y_pred))\n",
    "print(\"ROC AUC Score :\", roc_auc_score(y_test,y_pred))"
   ]
  },
  {
   "cell_type": "code",
   "execution_count": 46,
   "id": "f7a76021",
   "metadata": {
    "scrolled": true
   },
   "outputs": [
    {
     "name": "stdout",
     "output_type": "stream",
     "text": [
      "Training Accuracy : 0.9103448275862069\n",
      "Testing Accuracy : 0.7473171811041044\n",
      "F1 Score : 0.4663551401869159\n",
      "ROC AUC Score : 0.8244694276061477\n"
     ]
    }
   ],
   "source": [
    "tree = RandomForestClassifier(n_estimators=100,max_depth=6, max_features='sqrt')\n",
    "tree.fit(X_train,y_train)\n",
    "y_pred = tree.predict(X_test)\n",
    "print(\"Training Accuracy :\",tree.score(X_train,y_train))\n",
    "print(\"Testing Accuracy :\",tree.score(X_test,y_test))\n",
    "print(\"F1 Score :\", f1_score(y_test,y_pred))\n",
    "print(\"ROC AUC Score :\", roc_auc_score(y_test,y_pred))"
   ]
  },
  {
   "cell_type": "code",
   "execution_count": 47,
   "id": "0be0bbc8",
   "metadata": {},
   "outputs": [
    {
     "name": "stdout",
     "output_type": "stream",
     "text": [
      "Learning rate :  0.01  Train score :  0.9187698042870457 ROC AUC Score : 0.8288508286803549  Cross-Val score :  0.9169058713886299\n",
      "Learning rate :  0.02  Train score :  0.9283690587138863 ROC AUC Score : 0.8356389066457794  Cross-Val score :  0.9252003727865798\n",
      "Learning rate :  0.03  Train score :  0.9344641192917055 ROC AUC Score : 0.8373780202606445  Cross-Val score :  0.931071761416589\n",
      "Learning rate :  0.04  Train score :  0.9387698042870457 ROC AUC Score : 0.8398516399171377  Cross-Val score :  0.9339422180801492\n",
      "Learning rate :  0.05  Train score :  0.9412488350419385 ROC AUC Score : 0.8445332055924767  Cross-Val score :  0.9366262814538677\n",
      "Learning rate :  0.06  Train score :  0.9456849953401677 ROC AUC Score : 0.844552373712386  Cross-Val score :  0.939888164026095\n",
      "Learning rate :  0.07  Train score :  0.9496738117427772 ROC AUC Score : 0.8458857524122119  Cross-Val score :  0.943429636533085\n",
      "Learning rate :  0.08  Train score :  0.9526374650512581 ROC AUC Score : 0.8470451614887885  Cross-Val score :  0.9455917986952468\n",
      "Learning rate :  0.09  Train score :  0.953923578751165 ROC AUC Score : 0.851374068714855  Cross-Val score :  0.9477912395153772\n",
      "Learning rate :  0.1  Train score :  0.9561789375582479 ROC AUC Score : 0.8502627255924581  Cross-Val score :  0.949524697110904\n",
      "Learning rate :  0.11  Train score :  0.9575209692451072 ROC AUC Score : 0.8505283992301058  Cross-Val score :  0.9498974836905874\n",
      "Learning rate :  0.12  Train score :  0.9584342963653308 ROC AUC Score : 0.8512965223087785  Cross-Val score :  0.9513699906803355\n",
      "Learning rate :  0.13  Train score :  0.960596458527493 ROC AUC Score : 0.8524656610997164  Cross-Val score :  0.9524324324324324\n",
      "Learning rate :  0.14  Train score :  0.9612674743709226 ROC AUC Score : 0.8483926977969363  Cross-Val score :  0.9530475302889097\n",
      "Learning rate :  0.15  Train score :  0.9644920782851817 ROC AUC Score : 0.8507890623561662  Cross-Val score :  0.9539608574091334\n",
      "Learning rate :  0.2  Train score :  0.9696551724137931 ROC AUC Score : 0.8524267422422716  Cross-Val score :  0.95712954333644\n",
      "Learning rate :  0.5  Train score :  0.9890214352283317 ROC AUC Score : 0.8439036872471294  Cross-Val score :  0.9688909599254426\n",
      "Learning rate :  0.7  Train score :  0.995116495806151 ROC AUC Score : 0.8395842184266108  Cross-Val score :  0.9697856477166823\n",
      "Learning rate :  1  Train score :  0.9978378378378379 ROC AUC Score : 0.8339941770863946  Cross-Val score :  0.9703261882572226\n"
     ]
    }
   ],
   "source": [
    "from sklearn.model_selection import cross_val_score\n",
    "import numpy as np\n",
    "for lr in [0.01,0.02,0.03,0.04,0.05,0.06,0.07,0.08,0.09,0.1,0.11,0.12,0.13,0.14,0.15,0.2,0.5,0.7,1]:\n",
    "    model = XGBClassifier(learning_rate = lr, n_estimators=100, verbosity = 0) # initialise the model\n",
    "    model.fit(X_train,y_train) \n",
    "    model.score(X_test, y_test) \n",
    "    y_pred = model.predict(X_test)\n",
    "    print(\"Learning rate : \", lr, \" Train score : \", model.score(X_train,y_train),\"ROC AUC Score :\", roc_auc_score(y_test,y_pred), \" Cross-Val score : \", np.mean(cross_val_score(model, X_train, y_train, cv=10)))"
   ]
  },
  {
   "cell_type": "code",
   "execution_count": 48,
   "id": "3347656b",
   "metadata": {},
   "outputs": [
    {
     "name": "stdout",
     "output_type": "stream",
     "text": [
      "Training Accuracy : 0.9696551724137931\n",
      "Testing Accuracy : 0.8311760150459122\n",
      "F1 Score : 0.554322429906542\n",
      "ROC AUC Score : 0.8524267422422716\n"
     ]
    }
   ],
   "source": [
    "tree = XGBClassifier(learning_rate = 0.2, n_estimators=100, verbosity = 0)\n",
    "tree.fit(X_train,y_train)\n",
    "y_pred = tree.predict(X_test)\n",
    "print(\"Training Accuracy :\",tree.score(X_train,y_train))\n",
    "print(\"Testing Accuracy :\",tree.score(X_test,y_test))\n",
    "print(\"F1 Score :\", f1_score(y_test,y_pred))\n",
    "print(\"ROC AUC Score :\", roc_auc_score(y_test,y_pred))"
   ]
  },
  {
   "cell_type": "code",
   "execution_count": 49,
   "id": "a2a0f536",
   "metadata": {},
   "outputs": [],
   "source": [
    "df2 = pd.DataFrame({'Actual':y_test,'Predicted':y_pred}).reset_index()"
   ]
  },
  {
   "cell_type": "code",
   "execution_count": 50,
   "id": "de5ac37d",
   "metadata": {},
   "outputs": [],
   "source": [
    "df2.drop('index',axis=1,inplace=True)"
   ]
  },
  {
   "cell_type": "code",
   "execution_count": 51,
   "id": "64498869",
   "metadata": {},
   "outputs": [
    {
     "data": {
      "text/html": [
       "<div>\n",
       "<style scoped>\n",
       "    .dataframe tbody tr th:only-of-type {\n",
       "        vertical-align: middle;\n",
       "    }\n",
       "\n",
       "    .dataframe tbody tr th {\n",
       "        vertical-align: top;\n",
       "    }\n",
       "\n",
       "    .dataframe thead th {\n",
       "        text-align: right;\n",
       "    }\n",
       "</style>\n",
       "<table border=\"1\" class=\"dataframe\">\n",
       "  <thead>\n",
       "    <tr style=\"text-align: right;\">\n",
       "      <th></th>\n",
       "      <th>Actual</th>\n",
       "      <th>Predicted</th>\n",
       "    </tr>\n",
       "  </thead>\n",
       "  <tbody>\n",
       "    <tr>\n",
       "      <th>0</th>\n",
       "      <td>1</td>\n",
       "      <td>1</td>\n",
       "    </tr>\n",
       "    <tr>\n",
       "      <th>1</th>\n",
       "      <td>1</td>\n",
       "      <td>1</td>\n",
       "    </tr>\n",
       "    <tr>\n",
       "      <th>2</th>\n",
       "      <td>0</td>\n",
       "      <td>1</td>\n",
       "    </tr>\n",
       "    <tr>\n",
       "      <th>3</th>\n",
       "      <td>0</td>\n",
       "      <td>0</td>\n",
       "    </tr>\n",
       "    <tr>\n",
       "      <th>4</th>\n",
       "      <td>0</td>\n",
       "      <td>0</td>\n",
       "    </tr>\n",
       "    <tr>\n",
       "      <th>...</th>\n",
       "      <td>...</td>\n",
       "      <td>...</td>\n",
       "    </tr>\n",
       "    <tr>\n",
       "      <th>9034</th>\n",
       "      <td>0</td>\n",
       "      <td>0</td>\n",
       "    </tr>\n",
       "    <tr>\n",
       "      <th>9035</th>\n",
       "      <td>0</td>\n",
       "      <td>0</td>\n",
       "    </tr>\n",
       "    <tr>\n",
       "      <th>9036</th>\n",
       "      <td>0</td>\n",
       "      <td>0</td>\n",
       "    </tr>\n",
       "    <tr>\n",
       "      <th>9037</th>\n",
       "      <td>0</td>\n",
       "      <td>0</td>\n",
       "    </tr>\n",
       "    <tr>\n",
       "      <th>9038</th>\n",
       "      <td>0</td>\n",
       "      <td>0</td>\n",
       "    </tr>\n",
       "  </tbody>\n",
       "</table>\n",
       "<p>9039 rows × 2 columns</p>\n",
       "</div>"
      ],
      "text/plain": [
       "      Actual  Predicted\n",
       "0          1          1\n",
       "1          1          1\n",
       "2          0          1\n",
       "3          0          0\n",
       "4          0          0\n",
       "...      ...        ...\n",
       "9034       0          0\n",
       "9035       0          0\n",
       "9036       0          0\n",
       "9037       0          0\n",
       "9038       0          0\n",
       "\n",
       "[9039 rows x 2 columns]"
      ]
     },
     "execution_count": 51,
     "metadata": {},
     "output_type": "execute_result"
    }
   ],
   "source": [
    "df2"
   ]
  },
  {
   "cell_type": "code",
   "execution_count": null,
   "id": "c24c8997",
   "metadata": {},
   "outputs": [],
   "source": []
  }
 ],
 "metadata": {
  "kernelspec": {
   "display_name": "Python 3 (ipykernel)",
   "language": "python",
   "name": "python3"
  },
  "language_info": {
   "codemirror_mode": {
    "name": "ipython",
    "version": 3
   },
   "file_extension": ".py",
   "mimetype": "text/x-python",
   "name": "python",
   "nbconvert_exporter": "python",
   "pygments_lexer": "ipython3",
   "version": "3.11.0"
  }
 },
 "nbformat": 4,
 "nbformat_minor": 5
}
